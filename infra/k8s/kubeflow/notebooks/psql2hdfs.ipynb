{
 "cells": [
  {
   "cell_type": "code",
   "execution_count": null,
   "id": "bd4ffae3-9278-4caa-abeb-9e381e50543c",
   "metadata": {},
   "outputs": [],
   "source": [
    "!pip install psycopg2-binary"
   ]
  },
  {
   "cell_type": "code",
   "execution_count": null,
   "id": "9da8d2dd-0622-4488-ad53-1d2e2b01304b",
   "metadata": {},
   "outputs": [],
   "source": [
    "import psycopg2"
   ]
  },
  {
   "cell_type": "code",
   "execution_count": null,
   "id": "c5faa351-a922-4769-9c7a-4b014991cd8c",
   "metadata": {},
   "outputs": [],
   "source": [
    "conn = psycopg2.connect(host=\"\", port = 45432, database=\"world-data\", user=\"world-data\", password=\"\")"
   ]
  },
  {
   "cell_type": "code",
   "execution_count": null,
   "id": "0beb916b-3a29-4b69-bf6b-5c9ebac5a3a6",
   "metadata": {},
   "outputs": [],
   "source": [
    "cur = conn.cursor()"
   ]
  },
  {
   "cell_type": "code",
   "execution_count": null,
   "id": "b7693da5-d5d4-433b-8421-e9593702b2e6",
   "metadata": {},
   "outputs": [],
   "source": [
    "!pip install pandas"
   ]
  },
  {
   "cell_type": "code",
   "execution_count": null,
   "id": "69e7a0aa-6c7a-4e11-bdbc-8ea3aafd0ce9",
   "metadata": {},
   "outputs": [],
   "source": [
    "import pandas as pd"
   ]
  },
  {
   "cell_type": "code",
   "execution_count": null,
   "id": "304c704e-934b-435f-a1af-885a1b4def05",
   "metadata": {},
   "outputs": [],
   "source": [
    "def create_pandas_table(sql_query, database = conn):\n",
    "    table = pd.read_sql_query(sql_query, database)\n",
    "    return table"
   ]
  },
  {
   "cell_type": "code",
   "execution_count": null,
   "id": "46b41a78-a4f5-4b41-abb4-ddb0d10b5240",
   "metadata": {},
   "outputs": [],
   "source": [
    "cpi = create_pandas_table(\"SELECT * FROM consumerpiceindex\")"
   ]
  },
  {
   "cell_type": "code",
   "execution_count": null,
   "id": "bb52d209-3866-4f00-b41a-8efd2856c20b",
   "metadata": {},
   "outputs": [],
   "source": [
    "!pip install hdfs"
   ]
  },
  {
   "cell_type": "code",
   "execution_count": null,
   "id": "1dd88048-b09b-4784-91f2-df4fd3ff1ae6",
   "metadata": {},
   "outputs": [],
   "source": [
    "from hdfs import InsecureClient, HdfsError\n",
    "\n",
    "class HDFSPublisher:\n",
    "\n",
    "  def write(self, df: pd.DataFrame, filename: str) -> object:\n",
    "    \n",
    "    nameNodeHost = ''\n",
    "    nameNodeHttpPort = 50070\n",
    "    webhdfsUrl = f'http://{nameNodeHost}:{nameNodeHttpPort}'\n",
    "    client = InsecureClient(webhdfsUrl, user='hdfs')\n",
    "    dir = '/cpi/'\n",
    "\n",
    "    with client.write(dir+filename, encoding='utf-8') as writer:\n",
    "      df.to_csv(writer)\n",
    "    \n",
    "df = pd.DataFrame(cpi)\n",
    "\n",
    "publisher = HDFSPublisher()\n",
    "publisher.write(df, 'cpi.csv')"
   ]
  }
 ],
 "metadata": {
  "kernelspec": {
   "display_name": "Python 3",
   "language": "python",
   "name": "python3"
  },
  "language_info": {
   "codemirror_mode": {
    "name": "ipython",
    "version": 3
   },
   "file_extension": ".py",
   "mimetype": "text/x-python",
   "name": "python",
   "nbconvert_exporter": "python",
   "pygments_lexer": "ipython3",
   "version": "3.8.10"
  }
 },
 "nbformat": 4,
 "nbformat_minor": 5
}
