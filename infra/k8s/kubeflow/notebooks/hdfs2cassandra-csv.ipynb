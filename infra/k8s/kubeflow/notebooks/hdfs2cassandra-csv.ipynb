{
 "cells": [
  {
   "cell_type": "code",
   "execution_count": null,
   "id": "c79de22f-e1f5-407a-a8d3-293322bd3dcd",
   "metadata": {},
   "outputs": [],
   "source": [
    "!pip install pandas"
   ]
  },
  {
   "cell_type": "code",
   "execution_count": null,
   "id": "59146058-84b1-40ae-b743-b11465ef98d6",
   "metadata": {},
   "outputs": [],
   "source": [
    "!conda install python-hdfs --yes"
   ]
  },
  {
   "cell_type": "code",
   "execution_count": null,
   "id": "1219210c-d39f-48c1-9dfd-75a303aa9db3",
   "metadata": {},
   "outputs": [],
   "source": [
    "from hdfs import InsecureClient, HdfsError\n",
    "import pandas as pd\n",
    "\n",
    "nameNodeHost = ''\n",
    "nameNodeHttpPort = 50070\n",
    "webhdfsUrl = f'http://{nameNodeHost}:{nameNodeHttpPort}'\n",
    "\n",
    "client = InsecureClient(webhdfsUrl)\n",
    "with client.read('/cpi/cpi.csv', encoding = 'utf-8') as f:\n",
    "    df = pd.read_csv(f, nrows=1000)\n",
    "    \n",
    "df[df.select_dtypes('float64').columns] = df.select_dtypes('float64').astype('float')\n",
    "df.to_csv(\"./cpi.csv\", index=False, encoding=\"utf-8\")"
   ]
  },
  {
   "cell_type": "code",
   "execution_count": null,
   "id": "9a9f4282-c1fd-418c-b288-4473ed40d7d0",
   "metadata": {},
   "outputs": [],
   "source": [
    "!sed -i 's/Unnamed: 0/unnamed/' cpi.csv"
   ]
  },
  {
   "cell_type": "code",
   "execution_count": null,
   "id": "fa74ff78-6f13-4187-bc44-f20f7dc22080",
   "metadata": {},
   "outputs": [],
   "source": [
    "data = pd.read_csv(\"./cpi.csv\")\n",
    "data = data.fillna(0)"
   ]
  },
  {
   "cell_type": "code",
   "execution_count": null,
   "id": "930b6a21-96d1-4c6a-a00e-c838557a8793",
   "metadata": {},
   "outputs": [],
   "source": [
    "!pip install cassandra-driver"
   ]
  },
  {
   "cell_type": "code",
   "execution_count": null,
   "id": "37c83bc0-993c-46de-80c9-cd80084c60b9",
   "metadata": {},
   "outputs": [],
   "source": [
    "from cassandra.cluster import Cluster\n",
    "from cassandra.auth import PlainTextAuthProvider\n",
    "\n",
    "auth_provider = PlainTextAuthProvider(\n",
    "        username='world-data', password='')\n",
    "cluster = Cluster(\n",
    "        ['', '', '', '', ''],  protocol_version = 4, port=9042, auth_provider = auth_provider)\n",
    "\n",
    "session = cluster.connect('worlddata', wait_for_all_pools=True)\n",
    "\n",
    "session.execute(\"\"\"CREATE TABLE IF NOT EXISTS cpi (\n",
    "     unnamed int,\n",
    "     countryname text,\n",
    "     countrycode text,\n",
    "     indicatorname text,\n",
    "     indicatorcode text,\n",
    "     \"1960\" decimal, \n",
    "     \"1961\" decimal,\n",
    "     \"1962\" decimal,\n",
    "     \"1963\" decimal,\n",
    "     \"1964\" decimal,\n",
    "     \"1965\" decimal,\n",
    "     \"1966\" decimal,\n",
    "     \"1967\" decimal,\n",
    "     \"1968\" decimal,\n",
    "     \"1969\" decimal,\n",
    "     \"1970\" decimal,\n",
    "     \"1971\" decimal,\n",
    "     \"1972\" decimal,\n",
    "     \"1973\" decimal,\n",
    "     \"1974\" decimal,\n",
    "     \"1975\" decimal,\n",
    "     \"1976\" decimal,\n",
    "     \"1977\" decimal,\n",
    "     \"1978\" decimal,\n",
    "     \"1979\" decimal,\n",
    "     \"1980\" decimal,\n",
    "     \"1981\" decimal,\n",
    "     \"1982\" decimal,\n",
    "     \"1983\" decimal,\n",
    "     \"1984\" decimal,\n",
    "     \"1985\" decimal,\n",
    "     \"1986\" decimal,\n",
    "     \"1987\" decimal,\n",
    "     \"1988\" decimal,\n",
    "     \"1989\" decimal,\n",
    "     \"1990\" decimal,\n",
    "     \"1991\" decimal,\n",
    "     \"1992\" decimal,\n",
    "     \"1993\" decimal,\n",
    "     \"1994\" decimal,\n",
    "     \"1995\" decimal,\n",
    "     \"1996\" decimal,\n",
    "     \"1997\" decimal,\n",
    "     \"1998\" decimal,\n",
    "     \"1999\" decimal,\n",
    "     \"2000\" decimal,\n",
    "     \"2001\" decimal,\n",
    "     \"2002\" decimal,\n",
    "     \"2003\" decimal,\n",
    "     \"2004\" decimal,\n",
    "     \"2005\" decimal,\n",
    "     \"2006\" decimal,\n",
    "     \"2007\" decimal,\n",
    "     \"2008\" decimal,\n",
    "     \"2009\" decimal,\n",
    "     \"2010\" decimal,\n",
    "     \"2011\" decimal,\n",
    "     \"2012\" decimal,\n",
    "     \"2013\" decimal,\n",
    "     \"2014\" decimal,\n",
    "     \"2015\" decimal,\n",
    "     \"2016\" decimal,\n",
    "     \"2017\" decimal,\n",
    "     \"2018\" decimal,\n",
    "     \"2019\" decimal,\n",
    "     \"2020\" decimal,\n",
    "     \"2021\" decimal,\n",
    "     \"2022\" decimal,\n",
    "     PRIMARY KEY (unnamed,countryname,countrycode,indicatorname, indicatorcode));\"\"\")"
   ]
  },
  {
   "cell_type": "code",
   "execution_count": null,
   "id": "8f58316a-127b-4727-905f-f9214cb0f471",
   "metadata": {},
   "outputs": [],
   "source": [
    "from cassandra.cluster import Cluster\n",
    "from cassandra.auth import PlainTextAuthProvider\n",
    "\n",
    "auth_provider = PlainTextAuthProvider(\n",
    "        username='world-data', password='')\n",
    "cluster = Cluster(\n",
    "        ['', '', '', '', ''],  protocol_version = 4, port=9042, auth_provider = auth_provider)\n",
    "\n",
    "session = cluster.connect('worlddata', wait_for_all_pools=True)\n",
    "\n",
    "for (i, row) in data.iterrows():\n",
    "\n",
    "    query = \\\n",
    "        ('INSERT INTO worlddata.cpi (unnamed,countryname,countrycode,indicatorname,indicatorcode,\"1960\",\"1961\",\"1962\",\"1963\",\"1964\",\"1965\",\"1966\",\"1967\",\"1968\",\"1969\",\"1970\",\"1971\",\"1972\",\"1973\",\"1974\",\"1975\",\"1976\",\"1977\",\"1978\",\"1979\",\"1980\",\"1981\",\"1982\",\"1983\",\"1984\",\"1985\",\"1986\",\"1987\",\"1988\",\"1989\",\"1990\",\"1991\",\"1992\",\"1993\",\"1994\",\"1995\",\"1996\",\"1997\",\"1998\",\"1999\",\"2000\",\"2001\",\"2002\",\"2003\",\"2004\",\"2005\",\"2006\",\"2007\",\"2008\",\"2009\",\"2010\",\"2011\",\"2012\",\"2013\",\"2014\",\"2015\",\"2016\",\"2017\",\"2018\",\"2019\",\"2020\",\"2021\",\"2022\") VALUES (%s, %s, %s, %s, %s, %s, %s, %s, %s, %s, %s, %s, %s, %s, %s, %s, %s, %s, %s, %s, %s, %s, %s, %s, %s, %s, %s, %s, %s, %s, %s, %s, %s, %s, %s, %s, %s, %s, %s, %s, %s, %s, %s, %s, %s, %s, %s, %s, %s, %s, %s, %s, %s, %s, %s, %s, %s, %s, %s, %s, %s, %s, %s, %s, %s, %s, %s, %s)')    \n",
    "    session.execute(query, tuple(row))"
   ]
  },
  {
   "cell_type": "code",
   "execution_count": null,
   "id": "8529f722-7988-4c36-b6c5-82ef37e3ef93",
   "metadata": {},
   "outputs": [],
   "source": []
  }
 ],
 "metadata": {
  "kernelspec": {
   "display_name": "Python 3",
   "language": "python",
   "name": "python3"
  },
  "language_info": {
   "codemirror_mode": {
    "name": "ipython",
    "version": 3
   },
   "file_extension": ".py",
   "mimetype": "text/x-python",
   "name": "python",
   "nbconvert_exporter": "python",
   "pygments_lexer": "ipython3",
   "version": "3.8.10"
  }
 },
 "nbformat": 4,
 "nbformat_minor": 5
}
