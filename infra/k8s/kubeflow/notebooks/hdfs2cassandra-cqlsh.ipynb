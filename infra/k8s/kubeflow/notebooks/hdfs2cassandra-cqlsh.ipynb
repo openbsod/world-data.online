{
 "cells": [
  {
   "cell_type": "code",
   "execution_count": null,
   "id": "c79de22f-e1f5-407a-a8d3-293322bd3dcd",
   "metadata": {},
   "outputs": [],
   "source": [
    "!pip install pandas"
   ]
  },
  {
   "cell_type": "code",
   "execution_count": null,
   "id": "59146058-84b1-40ae-b743-b11465ef98d6",
   "metadata": {},
   "outputs": [],
   "source": [
    "!conda install python-hdfs --yes"
   ]
  },
  {
   "cell_type": "code",
   "execution_count": null,
   "id": "1219210c-d39f-48c1-9dfd-75a303aa9db3",
   "metadata": {},
   "outputs": [],
   "source": [
    "from hdfs import InsecureClient, HdfsError\n",
    "import pandas as pd\n",
    "\n",
    "nameNodeHost = ''\n",
    "nameNodeHttpPort = 50070\n",
    "webhdfsUrl = f'http://{nameNodeHost}:{nameNodeHttpPort}'\n",
    "\n",
    "client = InsecureClient(webhdfsUrl)\n",
    "with client.read('/cpi/cpi.csv', encoding = 'utf-8') as f:\n",
    "    df = pd.read_csv(f, nrows=1000)\n",
    "\n",
    "df.drop(columns=df.columns[0], \n",
    "        axis=1, \n",
    "        inplace=True)\n",
    "\n",
    "df.to_csv(\"./cpi.csv\", index=False, encoding=\"utf-8\")"
   ]
  },
  {
   "cell_type": "code",
   "execution_count": null,
   "id": "930b6a21-96d1-4c6a-a00e-c838557a8793",
   "metadata": {},
   "outputs": [],
   "source": [
    "!pip install cassandra-driver"
   ]
  },
  {
   "cell_type": "code",
   "execution_count": null,
   "id": "37c83bc0-993c-46de-80c9-cd80084c60b9",
   "metadata": {},
   "outputs": [],
   "source": [
    "from cassandra.cluster import Cluster\n",
    "from cassandra.auth import PlainTextAuthProvider\n",
    "\n",
    "auth_provider = PlainTextAuthProvider(\n",
    "        username='world-data', password='')\n",
    "cluster = Cluster(\n",
    "        ['', '', '', '', ''],  protocol_version = 4, port=9042, auth_provider = auth_provider)\n",
    "\n",
    "session = cluster.connect('worlddata', wait_for_all_pools=True)\n",
    "\n",
    "session.execute(\"\"\"CREATE TABLE IF NOT EXISTS cpi (\n",
    "     countryname text,\n",
    "     countrycode text,\n",
    "     indicatorname text,\n",
    "     indicatorcode text,\n",
    "     \"1960\" decimal, \n",
    "     \"1961\" decimal,\n",
    "     \"1962\" decimal,\n",
    "     \"1963\" decimal,\n",
    "     \"1964\" decimal,\n",
    "     \"1965\" decimal,\n",
    "     \"1966\" decimal,\n",
    "     \"1967\" decimal,\n",
    "     \"1968\" decimal,\n",
    "     \"1969\" decimal,\n",
    "     \"1970\" decimal,\n",
    "     \"1971\" decimal,\n",
    "     \"1972\" decimal,\n",
    "     \"1973\" decimal,\n",
    "     \"1974\" decimal,\n",
    "     \"1975\" decimal,\n",
    "     \"1976\" decimal,\n",
    "     \"1977\" decimal,\n",
    "     \"1978\" decimal,\n",
    "     \"1979\" decimal,\n",
    "     \"1980\" decimal,\n",
    "     \"1981\" decimal,\n",
    "     \"1982\" decimal,\n",
    "     \"1983\" decimal,\n",
    "     \"1984\" decimal,\n",
    "     \"1985\" decimal,\n",
    "     \"1986\" decimal,\n",
    "     \"1987\" decimal,\n",
    "     \"1988\" decimal,\n",
    "     \"1989\" decimal,\n",
    "     \"1990\" decimal,\n",
    "     \"1991\" decimal,\n",
    "     \"1992\" decimal,\n",
    "     \"1993\" decimal,\n",
    "     \"1994\" decimal,\n",
    "     \"1995\" decimal,\n",
    "     \"1996\" decimal,\n",
    "     \"1997\" decimal,\n",
    "     \"1998\" decimal,\n",
    "     \"1999\" decimal,\n",
    "     \"2000\" decimal,\n",
    "     \"2001\" decimal,\n",
    "     \"2002\" decimal,\n",
    "     \"2003\" decimal,\n",
    "     \"2004\" decimal,\n",
    "     \"2005\" decimal,\n",
    "     \"2006\" decimal,\n",
    "     \"2007\" decimal,\n",
    "     \"2008\" decimal,\n",
    "     \"2009\" decimal,\n",
    "     \"2010\" decimal,\n",
    "     \"2011\" decimal,\n",
    "     \"2012\" decimal,\n",
    "     \"2013\" decimal,\n",
    "     \"2014\" decimal,\n",
    "     \"2015\" decimal,\n",
    "     \"2016\" decimal,\n",
    "     \"2017\" decimal,\n",
    "     \"2018\" decimal,\n",
    "     \"2019\" decimal,\n",
    "     \"2020\" decimal,\n",
    "     \"2021\" decimal,\n",
    "     \"2022\" decimal,\n",
    "     PRIMARY KEY (countryname,countrycode,indicatorname,indicatorcode));\"\"\")"
   ]
  },
  {
   "cell_type": "code",
   "execution_count": null,
   "id": "8f58316a-127b-4727-905f-f9214cb0f471",
   "metadata": {},
   "outputs": [],
   "source": [
    "!pip install cqlsh"
   ]
  },
  {
   "cell_type": "code",
   "execution_count": null,
   "id": "876b9efa-ce6d-4a6b-b155-d91d2df61b49",
   "metadata": {},
   "outputs": [],
   "source": [
    "!cqlsh ip -u world-data -p '' -k worlddata -e \"COPY worlddata.cpi FROM './cpi.csv' WITH DELIMITER=',' AND HEADER=FALSE;\""
   ]
  }
 ],
 "metadata": {
  "kernelspec": {
   "display_name": "Python 3",
   "language": "python",
   "name": "python3"
  },
  "language_info": {
   "codemirror_mode": {
    "name": "ipython",
    "version": 3
   },
   "file_extension": ".py",
   "mimetype": "text/x-python",
   "name": "python",
   "nbconvert_exporter": "python",
   "pygments_lexer": "ipython3",
   "version": "3.8.10"
  }
 },
 "nbformat": 4,
 "nbformat_minor": 5
}
