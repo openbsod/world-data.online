{
 "cells": [
  {
   "cell_type": "code",
   "execution_count": null,
   "id": "c79de22f-e1f5-407a-a8d3-293322bd3dcd",
   "metadata": {},
   "outputs": [],
   "source": [
    "!pip install pandas"
   ]
  },
  {
   "cell_type": "code",
   "execution_count": null,
   "id": "59146058-84b1-40ae-b743-b11465ef98d6",
   "metadata": {},
   "outputs": [],
   "source": [
    "!conda install python-hdfs --yes"
   ]
  },
  {
   "cell_type": "code",
   "execution_count": null,
   "id": "1219210c-d39f-48c1-9dfd-75a303aa9db3",
   "metadata": {},
   "outputs": [],
   "source": [
    "from hdfs import InsecureClient, HdfsError\n",
    "import pandas as pd\n",
    "\n",
    "nameNodeHost = ''\n",
    "nameNodeHttpPort = 50070\n",
    "webhdfsUrl = f'http://{nameNodeHost}:{nameNodeHttpPort}'\n",
    "\n",
    "client = InsecureClient(webhdfsUrl)\n",
    "with client.read('/cpi/cpi.csv', encoding = 'utf-8') as f:\n",
    "    df = pd.read_csv(f, nrows=1000)\n",
    "\n",
    "df.drop(columns=df.columns[0], \n",
    "        axis=1, \n",
    "        inplace=True)\n",
    "\n",
    "df.to_csv(\"./cpi.csv\", index=False, encoding=\"utf-8\")"
   ]
  },
  {
   "cell_type": "code",
   "execution_count": null,
   "id": "930b6a21-96d1-4c6a-a00e-c838557a8793",
   "metadata": {},
   "outputs": [],
   "source": [
    "!pip install cassandra-driver"
   ]
  },
  {
   "cell_type": "code",
   "execution_count": null,
   "id": "37c83bc0-993c-46de-80c9-cd80084c60b9",
   "metadata": {},
   "outputs": [],
   "source": [
    "from cassandra.cluster import Cluster\n",
    "from cassandra.auth import PlainTextAuthProvider\n",
    "\n",
    "auth_provider = PlainTextAuthProvider(\n",
    "        username='world-data', password='')\n",
    "cluster = Cluster(\n",
    "        ['ip1', 'ip2', 'ip3', 'ip4', 'ipN'],  protocol_version = 4, port=9042, auth_provider = auth_provider)\n",
    "\n",
    "session = cluster.connect('worlddata', wait_for_all_pools=True)\n",
    "\n",
    "session.execute(\"\"\"CREATE TABLE IF NOT EXISTS cpi (\n",
    "     countryname text,\n",
    "     countrycode text,\n",
    "     indicatorname text,\n",
    "     indicatorcode text,\n",
    "     \"1960\" decimal, \n",
    "     \"1961\" decimal,\n",
    "           .....       \n",
    "     \"2020\" decimal,\n",
    "     \"2021\" decimal,\n",
    "     \"2022\" decimal,\n",
    "     PRIMARY KEY (countryname,countrycode,indicatorname,indicatorcode));\"\"\")"
   ]
  },
  {
   "cell_type": "code",
   "execution_count": null,
   "id": "8f58316a-127b-4727-905f-f9214cb0f471",
   "metadata": {},
   "outputs": [],
   "source": [
    "!pip install cqlsh"
   ]
  },
  {
   "cell_type": "code",
   "execution_count": null,
   "id": "876b9efa-ce6d-4a6b-b155-d91d2df61b49",
   "metadata": {},
   "outputs": [],
   "source": [
    "!cqlsh ip1 -u world-data -p '' -k worlddata -e \"COPY worlddata.cpi FROM './cpi.csv' WITH DELIMITER=',' AND HEADER=FALSE;\""
   ]
  }
 ],
 "metadata": {
  "kernelspec": {
   "display_name": "Python 3",
   "language": "python",
   "name": "python3"
  },
  "language_info": {
   "codemirror_mode": {
    "name": "ipython",
    "version": 3
   },
   "file_extension": ".py",
   "mimetype": "text/x-python",
   "name": "python",
   "nbconvert_exporter": "python",
   "pygments_lexer": "ipython3",
   "version": "3.8.10"
  }
 },
 "nbformat": 4,
 "nbformat_minor": 5
}
